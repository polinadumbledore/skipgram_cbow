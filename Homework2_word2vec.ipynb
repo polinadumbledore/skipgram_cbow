{
 "cells": [
  {
   "cell_type": "code",
   "execution_count": 1,
   "metadata": {},
   "outputs": [],
   "source": [
    "import json\n",
    "import random\n",
    "from tqdm import tqdm\n",
    "import numpy as np\n",
    "\n",
    "from matplotlib import pyplot as plt\n",
    "from sklearn.decomposition import TruncatedSVD\n",
    "from sklearn.manifold import TSNE\n",
    "\n",
    "import torch\n",
    "\n",
    "from pylab import rcParams\n",
    "rcParams['figure.figsize'] = 15, 15"
   ]
  },
  {
   "cell_type": "markdown",
   "metadata": {},
   "source": [
    "# Что делать?\n",
    "Где есть пометка # CODE писать код\n",
    "\n",
    "[Полезный туториал](http://jalammar.github.io/illustrated-word2vec/)"
   ]
  },
  {
   "cell_type": "markdown",
   "metadata": {},
   "source": [
    "# Загружаем данные\n",
    "Они уже обработанные и токенизированные. Процесс можно посмотреть в тетрадке 1.1 Processing corpus"
   ]
  },
  {
   "cell_type": "code",
   "execution_count": 138,
   "metadata": {},
   "outputs": [],
   "source": [
    "with open('processed_corpus.json') as f:\n",
    "    corpus = json.load(f)"
   ]
  },
  {
   "cell_type": "code",
   "execution_count": 3,
   "metadata": {},
   "outputs": [
    {
     "data": {
      "text/plain": [
       "100000"
      ]
     },
     "execution_count": 3,
     "metadata": {},
     "output_type": "execute_result"
    }
   ],
   "source": [
    "len(corpus)"
   ]
  },
  {
   "cell_type": "code",
   "execution_count": 139,
   "metadata": {},
   "outputs": [
    {
     "name": "stdout",
     "output_type": "stream",
     "text": [
      "второй UNK год окончательно разочаровать решить податься альфабанк\n",
      "вернуть денежный средство лицевой счёт либо зачесть счёт погашение кредит\n",
      "притом ситуация решиться участие течение сутки заявить\n",
      "мой ##число летний жизнь это самый неповоротливый работник банк который видеть\n",
      "везде написать вклад принимать очередь это\n"
     ]
    }
   ],
   "source": [
    "for text in corpus[:5]:\n",
    "    print(' '.join(text))"
   ]
  },
  {
   "cell_type": "markdown",
   "metadata": {},
   "source": [
    "# CBOW"
   ]
  },
  {
   "cell_type": "code",
   "execution_count": 140,
   "metadata": {},
   "outputs": [],
   "source": [
    "sample_text = corpus[1]"
   ]
  },
  {
   "cell_type": "code",
   "execution_count": 141,
   "metadata": {},
   "outputs": [
    {
     "data": {
      "text/plain": [
       "'вернуть денежный средство лицевой счёт либо зачесть счёт погашение кредит'"
      ]
     },
     "execution_count": 141,
     "metadata": {},
     "output_type": "execute_result"
    }
   ],
   "source": [
    "' '.join(sample_text)"
   ]
  },
  {
   "cell_type": "markdown",
   "metadata": {},
   "source": [
    "# Реализуйте разделение предложения на примеры методом CBOW"
   ]
  },
  {
   "cell_type": "code",
   "execution_count": 207,
   "metadata": {},
   "outputs": [],
   "source": [
    "def cbow_split(tokens, window, pad_token='PAD'):\n",
    "    \n",
    "    splits = [] \n",
    "    for i in range(len(tokens)):\n",
    "        left_context = (tokens[i - window: i]) if i>= window else ([pad_token] * (window - i) + tokens[0:i])\n",
    "        center = tokens[i]\n",
    "        right_context = tokens[i + 1:i + window + 1] if (i + window) < len(tokens) \\\n",
    "            else tokens[i + 1:len(tokens)] + [pad_token] * (window + i + 1 - len(tokens))\n",
    "        splits.append((left_context, center, right_context))\n",
    "    return splits"
   ]
  },
  {
   "cell_type": "code",
   "execution_count": 208,
   "metadata": {},
   "outputs": [],
   "source": [
    "splits = cbow_split(sample_text, window=2)"
   ]
  },
  {
   "cell_type": "code",
   "execution_count": 209,
   "metadata": {},
   "outputs": [
    {
     "data": {
      "text/plain": [
       "[(['PAD', 'PAD'], 'вернуть', ['денежный', 'средство']),\n",
       " (['PAD', 'вернуть'], 'денежный', ['средство', 'лицевой']),\n",
       " (['вернуть', 'денежный'], 'средство', ['лицевой', 'счёт']),\n",
       " (['денежный', 'средство'], 'лицевой', ['счёт', 'либо']),\n",
       " (['средство', 'лицевой'], 'счёт', ['либо', 'зачесть']),\n",
       " (['лицевой', 'счёт'], 'либо', ['зачесть', 'счёт']),\n",
       " (['счёт', 'либо'], 'зачесть', ['счёт', 'погашение']),\n",
       " (['либо', 'зачесть'], 'счёт', ['погашение', 'кредит']),\n",
       " (['зачесть', 'счёт'], 'погашение', ['кредит', 'PAD']),\n",
       " (['счёт', 'погашение'], 'кредит', ['PAD', 'PAD'])]"
      ]
     },
     "execution_count": 209,
     "metadata": {},
     "output_type": "execute_result"
    }
   ],
   "source": [
    "splits"
   ]
  },
  {
   "cell_type": "code",
   "execution_count": 210,
   "metadata": {},
   "outputs": [
    {
     "name": "stdout",
     "output_type": "stream",
     "text": [
      "Левый контекст: ['PAD', 'PAD']\n",
      "Центральное слово: вернуть\n",
      "Правый контекст: ['денежный', 'средство']\n",
      "\n",
      "Левый контекст: ['PAD', 'вернуть']\n",
      "Центральное слово: денежный\n",
      "Правый контекст: ['средство', 'лицевой']\n",
      "\n",
      "Левый контекст: ['вернуть', 'денежный']\n",
      "Центральное слово: средство\n",
      "Правый контекст: ['лицевой', 'счёт']\n",
      "\n",
      "Левый контекст: ['денежный', 'средство']\n",
      "Центральное слово: лицевой\n",
      "Правый контекст: ['счёт', 'либо']\n",
      "\n",
      "Левый контекст: ['средство', 'лицевой']\n",
      "Центральное слово: счёт\n",
      "Правый контекст: ['либо', 'зачесть']\n",
      "\n",
      "Левый контекст: ['лицевой', 'счёт']\n",
      "Центральное слово: либо\n",
      "Правый контекст: ['зачесть', 'счёт']\n",
      "\n",
      "Левый контекст: ['счёт', 'либо']\n",
      "Центральное слово: зачесть\n",
      "Правый контекст: ['счёт', 'погашение']\n",
      "\n",
      "Левый контекст: ['либо', 'зачесть']\n",
      "Центральное слово: счёт\n",
      "Правый контекст: ['погашение', 'кредит']\n",
      "\n",
      "Левый контекст: ['зачесть', 'счёт']\n",
      "Центральное слово: погашение\n",
      "Правый контекст: ['кредит', 'PAD']\n",
      "\n",
      "Левый контекст: ['счёт', 'погашение']\n",
      "Центральное слово: кредит\n",
      "Правый контекст: ['PAD', 'PAD']\n",
      "\n"
     ]
    }
   ],
   "source": [
    "for sample in splits:\n",
    "    print('Левый контекст:', sample[0])\n",
    "    print('Центральное слово:', sample[1])\n",
    "    print('Правый контекст:', sample[2], end='\\n\\n')"
   ]
  },
  {
   "cell_type": "code",
   "execution_count": 211,
   "metadata": {},
   "outputs": [
    {
     "data": {
      "text/plain": [
       "[(['PAD', 'PAD'], 'вернуть', ['денежный', 'средство']),\n",
       " (['PAD', 'вернуть'], 'денежный', ['средство', 'лицевой']),\n",
       " (['вернуть', 'денежный'], 'средство', ['лицевой', 'счёт']),\n",
       " (['денежный', 'средство'], 'лицевой', ['счёт', 'либо']),\n",
       " (['средство', 'лицевой'], 'счёт', ['либо', 'зачесть']),\n",
       " (['лицевой', 'счёт'], 'либо', ['зачесть', 'счёт']),\n",
       " (['счёт', 'либо'], 'зачесть', ['счёт', 'погашение']),\n",
       " (['либо', 'зачесть'], 'счёт', ['погашение', 'кредит']),\n",
       " (['зачесть', 'счёт'], 'погашение', ['кредит', 'PAD']),\n",
       " (['счёт', 'погашение'], 'кредит', ['PAD', 'PAD'])]"
      ]
     },
     "execution_count": 211,
     "metadata": {},
     "output_type": "execute_result"
    }
   ],
   "source": [
    "splits"
   ]
  },
  {
   "cell_type": "markdown",
   "metadata": {},
   "source": [
    "# Expected\n",
    "\n",
    "```python\n",
    "[(['PAD', 'PAD'], 'вопрос', ['почему', 'например']),\n",
    " (['PAD', 'вопрос'], 'почему', ['например', 'китайский']),\n",
    " (['вопрос', 'почему'], 'например', ['китайский', 'японский']),\n",
    " (['почему', 'например'], 'китайский', ['японский', 'UNK']),\n",
    " (['например', 'китайский'], 'японский', ['UNK', 'PAD']),\n",
    " (['китайский', 'японский'], 'UNK', ['PAD', 'PAD'])]\n",
    "```"
   ]
  },
  {
   "cell_type": "code",
   "execution_count": 212,
   "metadata": {},
   "outputs": [
    {
     "data": {
      "text/plain": [
       "[(['PAD', 'PAD', 'PAD'], 'вернуть', ['денежный', 'средство', 'лицевой']),\n",
       " (['PAD', 'PAD', 'вернуть'], 'денежный', ['средство', 'лицевой', 'счёт']),\n",
       " (['PAD', 'вернуть', 'денежный'], 'средство', ['лицевой', 'счёт', 'либо']),\n",
       " (['вернуть', 'денежный', 'средство'], 'лицевой', ['счёт', 'либо', 'зачесть']),\n",
       " (['денежный', 'средство', 'лицевой'], 'счёт', ['либо', 'зачесть', 'счёт']),\n",
       " (['средство', 'лицевой', 'счёт'], 'либо', ['зачесть', 'счёт', 'погашение']),\n",
       " (['лицевой', 'счёт', 'либо'], 'зачесть', ['счёт', 'погашение', 'кредит']),\n",
       " (['счёт', 'либо', 'зачесть'], 'счёт', ['погашение', 'кредит', 'PAD']),\n",
       " (['либо', 'зачесть', 'счёт'], 'погашение', ['кредит', 'PAD', 'PAD']),\n",
       " (['зачесть', 'счёт', 'погашение'], 'кредит', ['PAD', 'PAD', 'PAD'])]"
      ]
     },
     "execution_count": 212,
     "metadata": {},
     "output_type": "execute_result"
    }
   ],
   "source": [
    "cbow_split(sample_text, window=3)"
   ]
  },
  {
   "cell_type": "markdown",
   "metadata": {},
   "source": [
    "# Expected\n",
    "\n",
    "```python\n",
    "[(['PAD', 'PAD', 'PAD'], 'вопрос', ['почему', 'например', 'китайский']),\n",
    " (['PAD', 'PAD', 'вопрос'], 'почему', ['например', 'китайский', 'японский']),\n",
    " (['PAD', 'вопрос', 'почему'], 'например', ['китайский', 'японский', 'UNK']),\n",
    " (['вопрос', 'почему', 'например'], 'китайский', ['японский', 'UNK', 'PAD']),\n",
    " (['почему', 'например', 'китайский'], 'японский', ['UNK', 'PAD', 'PAD']),\n",
    " (['например', 'китайский', 'японский'], 'UNK', ['PAD', 'PAD', 'PAD'])]\n",
    "```"
   ]
  },
  {
   "cell_type": "markdown",
   "metadata": {},
   "source": [
    "# Skipgram"
   ]
  },
  {
   "cell_type": "code",
   "execution_count": 206,
   "metadata": {},
   "outputs": [
    {
     "data": {
      "text/plain": [
       "'вернуть денежный средство лицевой счёт либо зачесть счёт погашение кредит'"
      ]
     },
     "execution_count": 206,
     "metadata": {},
     "output_type": "execute_result"
    }
   ],
   "source": [
    "' '.join(sample_text)"
   ]
  },
  {
   "cell_type": "markdown",
   "metadata": {},
   "source": [
    "# Реализуйте разделение предложения на примеры методом Skipgram"
   ]
  },
  {
   "cell_type": "code",
   "execution_count": 213,
   "metadata": {},
   "outputs": [],
   "source": [
    "def skipgram_split(tokens, window):\n",
    "    \n",
    "    splits = []\n",
    "    for i, central_word in enumerate(tokens):\n",
    "        context = tokens[max(0, i - window):i] + tokens[i + 1:i + window + 1]\n",
    "        splits.extend([(word, central_word) for word in context])\n",
    "    return splits"
   ]
  },
  {
   "cell_type": "code",
   "execution_count": 214,
   "metadata": {},
   "outputs": [],
   "source": [
    "splits = skipgram_split(sample_text, window=2)"
   ]
  },
  {
   "cell_type": "code",
   "execution_count": 215,
   "metadata": {},
   "outputs": [
    {
     "name": "stdout",
     "output_type": "stream",
     "text": [
      "Контекст: денежный\n",
      "Центральное слово: вернуть\n",
      "\n",
      "Контекст: средство\n",
      "Центральное слово: вернуть\n",
      "\n",
      "Контекст: вернуть\n",
      "Центральное слово: денежный\n",
      "\n",
      "Контекст: средство\n",
      "Центральное слово: денежный\n",
      "\n",
      "Контекст: лицевой\n",
      "Центральное слово: денежный\n",
      "\n",
      "Контекст: вернуть\n",
      "Центральное слово: средство\n",
      "\n",
      "Контекст: денежный\n",
      "Центральное слово: средство\n",
      "\n",
      "Контекст: лицевой\n",
      "Центральное слово: средство\n",
      "\n",
      "Контекст: счёт\n",
      "Центральное слово: средство\n",
      "\n",
      "Контекст: денежный\n",
      "Центральное слово: лицевой\n",
      "\n",
      "Контекст: средство\n",
      "Центральное слово: лицевой\n",
      "\n",
      "Контекст: счёт\n",
      "Центральное слово: лицевой\n",
      "\n",
      "Контекст: либо\n",
      "Центральное слово: лицевой\n",
      "\n",
      "Контекст: средство\n",
      "Центральное слово: счёт\n",
      "\n",
      "Контекст: лицевой\n",
      "Центральное слово: счёт\n",
      "\n",
      "Контекст: либо\n",
      "Центральное слово: счёт\n",
      "\n",
      "Контекст: зачесть\n",
      "Центральное слово: счёт\n",
      "\n",
      "Контекст: лицевой\n",
      "Центральное слово: либо\n",
      "\n",
      "Контекст: счёт\n",
      "Центральное слово: либо\n",
      "\n",
      "Контекст: зачесть\n",
      "Центральное слово: либо\n",
      "\n",
      "Контекст: счёт\n",
      "Центральное слово: либо\n",
      "\n",
      "Контекст: счёт\n",
      "Центральное слово: зачесть\n",
      "\n",
      "Контекст: либо\n",
      "Центральное слово: зачесть\n",
      "\n",
      "Контекст: счёт\n",
      "Центральное слово: зачесть\n",
      "\n",
      "Контекст: погашение\n",
      "Центральное слово: зачесть\n",
      "\n",
      "Контекст: либо\n",
      "Центральное слово: счёт\n",
      "\n",
      "Контекст: зачесть\n",
      "Центральное слово: счёт\n",
      "\n",
      "Контекст: погашение\n",
      "Центральное слово: счёт\n",
      "\n",
      "Контекст: кредит\n",
      "Центральное слово: счёт\n",
      "\n",
      "Контекст: зачесть\n",
      "Центральное слово: погашение\n",
      "\n",
      "Контекст: счёт\n",
      "Центральное слово: погашение\n",
      "\n",
      "Контекст: кредит\n",
      "Центральное слово: погашение\n",
      "\n",
      "Контекст: счёт\n",
      "Центральное слово: кредит\n",
      "\n",
      "Контекст: погашение\n",
      "Центральное слово: кредит\n",
      "\n"
     ]
    }
   ],
   "source": [
    "for sample in splits:\n",
    "    print('Контекст:', sample[0])\n",
    "    print('Центральное слово:', sample[1], end='\\n\\n')"
   ]
  },
  {
   "cell_type": "code",
   "execution_count": 216,
   "metadata": {},
   "outputs": [
    {
     "data": {
      "text/plain": [
       "[('денежный', 'вернуть'),\n",
       " ('средство', 'вернуть'),\n",
       " ('вернуть', 'денежный'),\n",
       " ('средство', 'денежный'),\n",
       " ('лицевой', 'денежный'),\n",
       " ('вернуть', 'средство'),\n",
       " ('денежный', 'средство'),\n",
       " ('лицевой', 'средство'),\n",
       " ('счёт', 'средство'),\n",
       " ('денежный', 'лицевой'),\n",
       " ('средство', 'лицевой'),\n",
       " ('счёт', 'лицевой'),\n",
       " ('либо', 'лицевой'),\n",
       " ('средство', 'счёт'),\n",
       " ('лицевой', 'счёт'),\n",
       " ('либо', 'счёт'),\n",
       " ('зачесть', 'счёт'),\n",
       " ('лицевой', 'либо'),\n",
       " ('счёт', 'либо'),\n",
       " ('зачесть', 'либо'),\n",
       " ('счёт', 'либо'),\n",
       " ('счёт', 'зачесть'),\n",
       " ('либо', 'зачесть'),\n",
       " ('счёт', 'зачесть'),\n",
       " ('погашение', 'зачесть'),\n",
       " ('либо', 'счёт'),\n",
       " ('зачесть', 'счёт'),\n",
       " ('погашение', 'счёт'),\n",
       " ('кредит', 'счёт'),\n",
       " ('зачесть', 'погашение'),\n",
       " ('счёт', 'погашение'),\n",
       " ('кредит', 'погашение'),\n",
       " ('счёт', 'кредит'),\n",
       " ('погашение', 'кредит')]"
      ]
     },
     "execution_count": 216,
     "metadata": {},
     "output_type": "execute_result"
    }
   ],
   "source": [
    "skipgram_split(sample_text, window=2)"
   ]
  },
  {
   "cell_type": "markdown",
   "metadata": {},
   "source": [
    "# Expected\n",
    "\n",
    "```python\n",
    "[('почему', 'вопрос'),\n",
    " ('например', 'вопрос'),\n",
    " ('вопрос', 'почему'),\n",
    " ('например', 'почему'),\n",
    " ('китайский', 'почему'),\n",
    " ('вопрос', 'например'),\n",
    " ('почему', 'например'),\n",
    " ('китайский', 'например'),\n",
    " ('японский', 'например'),\n",
    " ('почему', 'китайский'),\n",
    " ('например', 'китайский'),\n",
    " ('японский', 'китайский'),\n",
    " ('UNK', 'китайский'),\n",
    " ('например', 'японский'),\n",
    " ('китайский', 'японский'),\n",
    " ('UNK', 'японский'),\n",
    " ('китайский', 'UNK'),\n",
    " ('японский', 'UNK')]\n",
    "```"
   ]
  },
  {
   "cell_type": "code",
   "execution_count": 217,
   "metadata": {},
   "outputs": [
    {
     "data": {
      "text/plain": [
       "[('денежный', 'вернуть'),\n",
       " ('средство', 'вернуть'),\n",
       " ('лицевой', 'вернуть'),\n",
       " ('вернуть', 'денежный'),\n",
       " ('средство', 'денежный'),\n",
       " ('лицевой', 'денежный'),\n",
       " ('счёт', 'денежный'),\n",
       " ('вернуть', 'средство'),\n",
       " ('денежный', 'средство'),\n",
       " ('лицевой', 'средство'),\n",
       " ('счёт', 'средство'),\n",
       " ('либо', 'средство'),\n",
       " ('вернуть', 'лицевой'),\n",
       " ('денежный', 'лицевой'),\n",
       " ('средство', 'лицевой'),\n",
       " ('счёт', 'лицевой'),\n",
       " ('либо', 'лицевой'),\n",
       " ('зачесть', 'лицевой'),\n",
       " ('денежный', 'счёт'),\n",
       " ('средство', 'счёт'),\n",
       " ('лицевой', 'счёт'),\n",
       " ('либо', 'счёт'),\n",
       " ('зачесть', 'счёт'),\n",
       " ('счёт', 'счёт'),\n",
       " ('средство', 'либо'),\n",
       " ('лицевой', 'либо'),\n",
       " ('счёт', 'либо'),\n",
       " ('зачесть', 'либо'),\n",
       " ('счёт', 'либо'),\n",
       " ('погашение', 'либо'),\n",
       " ('лицевой', 'зачесть'),\n",
       " ('счёт', 'зачесть'),\n",
       " ('либо', 'зачесть'),\n",
       " ('счёт', 'зачесть'),\n",
       " ('погашение', 'зачесть'),\n",
       " ('кредит', 'зачесть'),\n",
       " ('счёт', 'счёт'),\n",
       " ('либо', 'счёт'),\n",
       " ('зачесть', 'счёт'),\n",
       " ('погашение', 'счёт'),\n",
       " ('кредит', 'счёт'),\n",
       " ('либо', 'погашение'),\n",
       " ('зачесть', 'погашение'),\n",
       " ('счёт', 'погашение'),\n",
       " ('кредит', 'погашение'),\n",
       " ('зачесть', 'кредит'),\n",
       " ('счёт', 'кредит'),\n",
       " ('погашение', 'кредит')]"
      ]
     },
     "execution_count": 217,
     "metadata": {},
     "output_type": "execute_result"
    }
   ],
   "source": [
    "skipgram_split(sample_text, window=3)"
   ]
  },
  {
   "cell_type": "markdown",
   "metadata": {},
   "source": [
    "# Expected\n",
    "\n",
    "```python\n",
    "[('почему', 'вопрос'),\n",
    " ('например', 'вопрос'),\n",
    " ('китайский', 'вопрос'),\n",
    " ('вопрос', 'почему'),\n",
    " ('например', 'почему'),\n",
    " ('китайский', 'почему'),\n",
    " ('японский', 'почему'),\n",
    " ('вопрос', 'например'),\n",
    " ('почему', 'например'),\n",
    " ('китайский', 'например'),\n",
    " ('японский', 'например'),\n",
    " ('UNK', 'например'),\n",
    " ('вопрос', 'китайский'),\n",
    " ('почему', 'китайский'),\n",
    " ('например', 'китайский'),\n",
    " ('японский', 'китайский'),\n",
    " ('UNK', 'китайский'),\n",
    " ('почему', 'японский'),\n",
    " ('например', 'японский'),\n",
    " ('китайский', 'японский'),\n",
    " ('UNK', 'японский'),\n",
    " ('например', 'UNK'),\n",
    " ('китайский', 'UNK'),\n",
    " ('японский', 'UNK')]\n",
    "```"
   ]
  },
  {
   "cell_type": "code",
   "execution_count": 218,
   "metadata": {},
   "outputs": [],
   "source": [
    "word2index = {}\n",
    "\n",
    "for text in corpus:\n",
    "    for token in text:\n",
    "        if token not in word2index:\n",
    "            word2index[token] = len(word2index)"
   ]
  },
  {
   "cell_type": "code",
   "execution_count": 219,
   "metadata": {},
   "outputs": [
    {
     "data": {
      "text/plain": [
       "13076"
      ]
     },
     "execution_count": 219,
     "metadata": {},
     "output_type": "execute_result"
    }
   ],
   "source": [
    "len(word2index)"
   ]
  },
  {
   "cell_type": "code",
   "execution_count": 220,
   "metadata": {},
   "outputs": [
    {
     "data": {
      "text/plain": [
       "1"
      ]
     },
     "execution_count": 220,
     "metadata": {},
     "output_type": "execute_result"
    }
   ],
   "source": [
    "word2index['UNK']"
   ]
  },
  {
   "cell_type": "code",
   "execution_count": 221,
   "metadata": {},
   "outputs": [
    {
     "data": {
      "text/plain": [
       "[1282, 8436, 1]"
      ]
     },
     "execution_count": 221,
     "metadata": {},
     "output_type": "execute_result"
    }
   ],
   "source": [
    "[word2index[tok] if tok in word2index else word2index['UNK'] for tok in 'мама мыть рама'.split()]"
   ]
  },
  {
   "cell_type": "markdown",
   "metadata": {},
   "source": [
    "# Torch Dataset\n",
    "В торче есть очень удобная читалка данных"
   ]
  },
  {
   "cell_type": "code",
   "execution_count": 222,
   "metadata": {},
   "outputs": [],
   "source": [
    "from torch.utils.data import Dataset, DataLoader"
   ]
  },
  {
   "cell_type": "code",
   "execution_count": 223,
   "metadata": {},
   "outputs": [],
   "source": [
    "# игрушечный датасет\n",
    "# 121535 примера, 4 фичи, 3 класса\n",
    "some_data_x = np.random.rand(121535, 4)\n",
    "some_data_y = np.random.randint(3, size=(121535,))"
   ]
  },
  {
   "cell_type": "code",
   "execution_count": 224,
   "metadata": {},
   "outputs": [
    {
     "data": {
      "text/plain": [
       "array([[0.34245687, 0.62858254, 0.15864064, 0.25787508],\n",
       "       [0.38400539, 0.80945484, 0.45365164, 0.19915523],\n",
       "       [0.31176273, 0.86663813, 0.30985284, 0.98334739],\n",
       "       [0.53740227, 0.18452113, 0.27617126, 0.24963935],\n",
       "       [0.247078  , 0.56379249, 0.39393526, 0.92504113],\n",
       "       [0.30014163, 0.95322706, 0.49694466, 0.48181082],\n",
       "       [0.76373963, 0.83788448, 0.22391084, 0.60223808],\n",
       "       [0.95588021, 0.63651324, 0.16740481, 0.37190442],\n",
       "       [0.85600888, 0.79887028, 0.94606856, 0.11922204],\n",
       "       [0.85967168, 0.6499835 , 0.76471911, 0.61173379]])"
      ]
     },
     "execution_count": 224,
     "metadata": {},
     "output_type": "execute_result"
    }
   ],
   "source": [
    "# соверешенно игрушечный, просто цифры\n",
    "some_data_x[:10]"
   ]
  },
  {
   "cell_type": "code",
   "execution_count": 225,
   "metadata": {},
   "outputs": [
    {
     "data": {
      "text/plain": [
       "array([0, 0, 1, ..., 1, 1, 0])"
      ]
     },
     "execution_count": 225,
     "metadata": {},
     "output_type": "execute_result"
    }
   ],
   "source": [
    "some_data_y"
   ]
  },
  {
   "cell_type": "code",
   "execution_count": 226,
   "metadata": {},
   "outputs": [],
   "source": [
    "class ToyDataset(Dataset):\n",
    "    \n",
    "    def __init__(self, data_x, data_y):\n",
    "        \n",
    "        super().__init__()\n",
    "        \n",
    "        self.data_x = data_x\n",
    "        self.data_y = data_y\n",
    "        \n",
    "    def __len__(self):\n",
    "        \n",
    "        # Нужно обязательно определить эту функцию\n",
    "        # Должна возвращать размер датасета\n",
    "        \n",
    "        return len(self.data_x)\n",
    "    \n",
    "    def __getitem__(self, idx):\n",
    "        \n",
    "        # Еще нужно определить этот метод\n",
    "        # То есть как мы будем доставать наши данные по индексу\n",
    "        \n",
    "        return self.data_x[idx], self.data_y[idx]"
   ]
  },
  {
   "cell_type": "code",
   "execution_count": 227,
   "metadata": {},
   "outputs": [],
   "source": [
    "some_dataset = ToyDataset(some_data_x, some_data_y)"
   ]
  },
  {
   "cell_type": "code",
   "execution_count": 228,
   "metadata": {},
   "outputs": [
    {
     "data": {
      "text/plain": [
       "((array([0.30014163, 0.95322706, 0.49694466, 0.48181082]), 2),\n",
       " (array([0.09700985, 0.05458103, 0.93578011, 0.52101597]), 1))"
      ]
     },
     "execution_count": 228,
     "metadata": {},
     "output_type": "execute_result"
    }
   ],
   "source": [
    "some_dataset[5], some_dataset[467]"
   ]
  },
  {
   "cell_type": "code",
   "execution_count": 229,
   "metadata": {},
   "outputs": [],
   "source": [
    "some_loader = DataLoader(some_dataset, batch_size=16, shuffle=True)"
   ]
  },
  {
   "cell_type": "code",
   "execution_count": 230,
   "metadata": {},
   "outputs": [
    {
     "data": {
      "text/plain": [
       "(16,\n",
       " tensor([[0.5152, 0.5991, 0.6225, 0.4099],\n",
       "         [0.5581, 0.6619, 0.6368, 0.6310],\n",
       "         [0.0115, 0.0440, 0.8527, 0.4826],\n",
       "         [0.0253, 0.9726, 0.0735, 0.7721],\n",
       "         [0.8284, 0.0995, 0.4487, 0.5212],\n",
       "         [0.9146, 0.9147, 0.9222, 0.9025],\n",
       "         [0.0282, 0.7696, 0.0675, 0.2689],\n",
       "         [0.7088, 0.4709, 0.9526, 0.1147],\n",
       "         [0.4598, 0.5849, 0.1153, 0.8066],\n",
       "         [0.1935, 0.4579, 0.3880, 0.5909],\n",
       "         [0.9907, 0.1663, 0.6745, 0.3102],\n",
       "         [0.4776, 0.5263, 0.9471, 0.6470],\n",
       "         [0.2827, 0.1844, 0.4364, 0.9183],\n",
       "         [0.6230, 0.4457, 0.5721, 0.4587],\n",
       "         [0.0675, 0.1972, 0.1566, 0.8341],\n",
       "         [0.6327, 0.0230, 0.9765, 0.3826]], dtype=torch.float64))"
      ]
     },
     "execution_count": 230,
     "metadata": {},
     "output_type": "execute_result"
    }
   ],
   "source": [
    "for x, y in some_loader:\n",
    "    break\n",
    "    \n",
    "len(x), x"
   ]
  },
  {
   "cell_type": "code",
   "execution_count": 231,
   "metadata": {},
   "outputs": [
    {
     "data": {
      "text/plain": [
       "15"
      ]
     },
     "execution_count": 231,
     "metadata": {},
     "output_type": "execute_result"
    }
   ],
   "source": [
    "for x, y in some_loader:\n",
    "    pass\n",
    "\n",
    "len(x)"
   ]
  },
  {
   "cell_type": "code",
   "execution_count": 232,
   "metadata": {},
   "outputs": [
    {
     "data": {
      "text/plain": [
       "15"
      ]
     },
     "execution_count": 232,
     "metadata": {},
     "output_type": "execute_result"
    }
   ],
   "source": [
    "# почему 13?\n",
    "# потому что количество наших данных нацело не делится на 16\n",
    "# и поэтому последний батч меньше 16-ти\n",
    "len(some_dataset) % 16"
   ]
  },
  {
   "cell_type": "markdown",
   "metadata": {},
   "source": [
    "# А зачем?"
   ]
  },
  {
   "cell_type": "code",
   "execution_count": 233,
   "metadata": {},
   "outputs": [],
   "source": [
    "class ToyDataset(Dataset):\n",
    "    \n",
    "    def __init__(self, data_x, data_y):\n",
    "        \n",
    "        super().__init__()\n",
    "        \n",
    "        self.data_x = data_x\n",
    "        self.data_y = data_y\n",
    "        \n",
    "    def __len__(self):\n",
    "        \n",
    "        # Нужно обязательно определить эту функцию\n",
    "        # Должна возвращать размер датасета\n",
    "        \n",
    "        return len(self.data_x)\n",
    "    \n",
    "    @staticmethod\n",
    "    def add_pow_features(x, n=2):\n",
    "        \n",
    "        return np.concatenate([x, x ** n]) \n",
    "    \n",
    "    @staticmethod\n",
    "    def add_log_features(x):\n",
    "        \n",
    "        return np.concatenate([x, np.log(x)]) \n",
    "    \n",
    "    def __getitem__(self, idx):\n",
    "        \n",
    "        # Еще нужно определить этот метод\n",
    "        # То есть как мы будем доставать наши данные по индексу\n",
    "        \n",
    "        x = self.data_x[idx]\n",
    "        \n",
    "        # внутри датасета мы можем делать все что угодно с нашими данными\n",
    "        # например выше определим функции, которые добавляют степенные фичи\n",
    "        x = self.add_pow_features(x, n=2)\n",
    "        x = self.add_pow_features(x, n=3)\n",
    "        # и еще возьмем логарифмические фичи\n",
    "        x = self.add_log_features(x)\n",
    "        \n",
    "        y = self.data_y[idx]\n",
    "        \n",
    "        return x, y"
   ]
  },
  {
   "cell_type": "code",
   "execution_count": 234,
   "metadata": {},
   "outputs": [],
   "source": [
    "toy_dataset = ToyDataset(some_data_x, some_data_y)"
   ]
  },
  {
   "cell_type": "code",
   "execution_count": 235,
   "metadata": {},
   "outputs": [],
   "source": [
    "toy_loader = DataLoader(dataset=toy_dataset, batch_size=128)"
   ]
  },
  {
   "cell_type": "code",
   "execution_count": 236,
   "metadata": {},
   "outputs": [],
   "source": [
    "for x, y in toy_loader:\n",
    "    break"
   ]
  },
  {
   "cell_type": "code",
   "execution_count": 237,
   "metadata": {},
   "outputs": [
    {
     "data": {
      "text/plain": [
       "torch.Size([128, 32])"
      ]
     },
     "execution_count": 237,
     "metadata": {},
     "output_type": "execute_result"
    }
   ],
   "source": [
    "x.shape"
   ]
  },
  {
   "cell_type": "code",
   "execution_count": 238,
   "metadata": {},
   "outputs": [
    {
     "data": {
      "text/plain": [
       "tensor([[  0.3425,   0.6286,   0.1586,  ...,  -2.7857, -11.0467,  -8.1317],\n",
       "        [  0.3840,   0.8095,   0.4537,  ...,  -1.2684,  -4.7426,  -9.6820],\n",
       "        [  0.3118,   0.8666,   0.3099,  ...,  -0.8588,  -7.0299,  -0.1008],\n",
       "        ...,\n",
       "        [  0.3208,   0.1956,   0.1514,  ...,  -9.7915, -11.3257,  -0.5055],\n",
       "        [  0.5461,   0.0857,   0.3345,  ..., -14.7411,  -6.5699,  -9.1160],\n",
       "        [  0.6691,   0.9575,   0.3933,  ...,  -0.2603,  -5.5996,  -0.1471]],\n",
       "       dtype=torch.float64)"
      ]
     },
     "execution_count": 238,
     "metadata": {},
     "output_type": "execute_result"
    }
   ],
   "source": [
    "# заметим, что мы сразу получаем торчовый формат данных\n",
    "x"
   ]
  },
  {
   "cell_type": "code",
   "execution_count": 239,
   "metadata": {},
   "outputs": [
    {
     "data": {
      "text/plain": [
       "tensor([0, 0, 1, 1, 2, 2, 2, 1, 0, 0, 2, 2, 0, 2, 0, 1, 0, 2, 1, 1, 1, 1, 0, 1,\n",
       "        0, 2, 0, 1, 1, 0, 2, 0, 2, 0, 0, 0, 1, 0, 0, 0, 1, 2, 0, 1, 2, 1, 1, 2,\n",
       "        1, 2, 0, 0, 2, 2, 1, 0, 2, 1, 1, 0, 1, 1, 2, 1, 2, 2, 2, 0, 0, 1, 1, 2,\n",
       "        1, 1, 0, 2, 1, 2, 1, 2, 1, 1, 2, 2, 0, 0, 1, 1, 1, 0, 0, 1, 2, 2, 0, 2,\n",
       "        2, 2, 2, 0, 2, 0, 0, 1, 2, 2, 0, 2, 2, 1, 0, 1, 0, 0, 1, 1, 1, 0, 1, 1,\n",
       "        1, 2, 0, 1, 1, 2, 0, 0])"
      ]
     },
     "execution_count": 239,
     "metadata": {},
     "output_type": "execute_result"
    }
   ],
   "source": [
    "y"
   ]
  },
  {
   "cell_type": "markdown",
   "metadata": {},
   "source": [
    "# Если вы ничего здесь не понимаете, то вернитесь в конец первой домашки, там все объясняется"
   ]
  },
  {
   "cell_type": "code",
   "execution_count": 240,
   "metadata": {},
   "outputs": [],
   "source": [
    "model = torch.nn.Sequential(torch.nn.Linear(32, 16),\n",
    "                            torch.nn.ReLU(),\n",
    "                            torch.nn.Linear(16, 8),\n",
    "                            torch.nn.ReLU(),\n",
    "                            torch.nn.Linear(8, 3))\n",
    "\n",
    "criterion = torch.nn.CrossEntropyLoss()"
   ]
  },
  {
   "cell_type": "code",
   "execution_count": 241,
   "metadata": {},
   "outputs": [
    {
     "data": {
      "text/plain": [
       "1.1858994960784912"
      ]
     },
     "execution_count": 241,
     "metadata": {},
     "output_type": "execute_result"
    }
   ],
   "source": [
    "with torch.no_grad():\n",
    "\n",
    "    prediction = model(x.float())\n",
    "\n",
    "    loss = criterion(prediction, y)\n",
    "    \n",
    "loss.item()"
   ]
  },
  {
   "cell_type": "markdown",
   "metadata": {},
   "source": [
    "# Боевые датасеты"
   ]
  },
  {
   "cell_type": "code",
   "execution_count": 242,
   "metadata": {},
   "outputs": [],
   "source": [
    "class CBOWDataset(Dataset):\n",
    "\n",
    "    def __init__(self,\n",
    "                 corpus,\n",
    "                 word2index,\n",
    "                 window=2,\n",
    "                 unk_token='UNK',\n",
    "                 pad_token='PAD',\n",
    "                 collect_verbose=True):\n",
    "\n",
    "        self.corpus = corpus\n",
    "        self.word2index = word2index\n",
    "        self.index2word = {value: key for key, value in self.word2index.items()}\n",
    "        self.window = window\n",
    "\n",
    "        self.unk_token = unk_token\n",
    "        self.unk_index = self.word2index[self.unk_token]\n",
    "\n",
    "        self.pad_token = pad_token\n",
    "        self.pad_index = len(self.word2index)\n",
    "\n",
    "        self.collect_verbose = collect_verbose\n",
    "\n",
    "        self.data = []\n",
    "\n",
    "        self.collect_data()\n",
    "\n",
    "    def __len__(self):\n",
    "\n",
    "        return len(self.data)\n",
    "\n",
    "    def _split_function(self, tokenized_text):\n",
    "\n",
    "        splits = []\n",
    "\n",
    "        for n in range(len(tokenized_text)):\n",
    "            left_context = tokenized_text[np.maximum(n - self.window, 0):n]\n",
    "            left_context = ([self.pad_index] * (self.window - len(left_context))) + left_context\n",
    "\n",
    "            central_word = tokenized_text[n]\n",
    "\n",
    "            right_context = tokenized_text[n + 1:n + self.window + 1]\n",
    "            right_context = right_context + ([self.pad_index] * (self.window - len(right_context)))\n",
    "\n",
    "            splits.append((left_context + right_context, central_word))\n",
    "\n",
    "        return splits\n",
    "\n",
    "    def indexing(self, tokenized_text):\n",
    "\n",
    "        return [self.word2index[token] if token in self.word2index else self.unk_index for token in tokenized_text]\n",
    "\n",
    "    def collect_data(self):\n",
    "\n",
    "        corpus = tqdm(self.corpus, disable=not self.collect_verbose)\n",
    "\n",
    "        for tokenized_text in corpus:\n",
    "            indexed_text = self.indexing(tokenized_text)\n",
    "            cbow_examples = self._split_function(indexed_text)\n",
    "\n",
    "            self.data.extend(cbow_examples)\n",
    "\n",
    "    def __getitem__(self, idx):\n",
    "\n",
    "        context, central_word = self.data[idx]\n",
    "\n",
    "        context = torch.Tensor(context).long()\n",
    "\n",
    "        return context, central_word"
   ]
  },
  {
   "cell_type": "markdown",
   "metadata": {},
   "source": [
    "# Мы будем учить модель Skipgram\n",
    "Реализуйте читалку данных"
   ]
  },
  {
   "cell_type": "code",
   "execution_count": 272,
   "metadata": {},
   "outputs": [],
   "source": [
    "class SkipgramDataset(Dataset):\n",
    "\n",
    "    def __init__(self,\n",
    "                 corpus,\n",
    "                 word2index,\n",
    "                 window=2,\n",
    "                 unk_token='UNK',\n",
    "                 collect_verbose=True):\n",
    "        \n",
    "        self.corpus = corpus\n",
    "        self.word2index = word2index\n",
    "        self.index2word = {value: key for key, value in self.word2index.items()}\n",
    "        self.window = window\n",
    "        \n",
    "        \n",
    "        self.unk_token = unk_token\n",
    "        self.unk_index = self.word2index[self.unk_token]\n",
    "\n",
    "        self.collect_verbose = collect_verbose\n",
    "\n",
    "        self.data = []\n",
    "        self.collect_data()\n",
    "\n",
    "    def __len__(self):\n",
    "\n",
    "        return len(self.data)\n",
    "\n",
    "    def _split_function(self, tokenized_text):\n",
    "        \n",
    "        splits = []\n",
    "        for i, central_word in enumerate(tokenized_text):\n",
    "            context = tokenized_text[max(0, i - self.window):i] + tokenized_text[i + 1:i + self.window + 1]\n",
    "            splits.extend([(word, central_word) for word in context])\n",
    "        return splits\n",
    "\n",
    "    def indexing(self, tokenized_text):\n",
    "\n",
    "        return [self.word2index[token] if token in self.word2index else self.unk_index for token in tokenized_text]\n",
    "\n",
    "    def collect_data(self):\n",
    "\n",
    "        corpus = tqdm(self.corpus, disable=not self.collect_verbose)\n",
    "\n",
    "        for tokenized_text in corpus:\n",
    "            indexed_text = self.indexing(tokenized_text)\n",
    "            skipgram_examples = self._split_function(indexed_text)\n",
    "\n",
    "            self.data.extend(skipgram_examples)\n",
    "\n",
    "    def __getitem__(self, idx):\n",
    "        \n",
    "        context, central_word = self.data[idx]\n",
    "\n",
    "        return context, central_word"
   ]
  },
  {
   "cell_type": "code",
   "execution_count": 256,
   "metadata": {},
   "outputs": [],
   "source": [
    "# можете положить SkipgramDataset в отдельный файлик, например word2vec_utils и относительным импортом достать его \n",
    "#from .word2vec_utils import SkipgramDataset"
   ]
  },
  {
   "cell_type": "code",
   "execution_count": 273,
   "metadata": {
    "scrolled": true
   },
   "outputs": [
    {
     "name": "stderr",
     "output_type": "stream",
     "text": [
      "100%|██████████| 100000/100000 [00:04<00:00, 20623.86it/s]\n"
     ]
    }
   ],
   "source": [
    "dataset = SkipgramDataset(corpus, word2index)"
   ]
  },
  {
   "cell_type": "code",
   "execution_count": 259,
   "metadata": {},
   "outputs": [
    {
     "name": "stdout",
     "output_type": "stream",
     "text": [
      "<__main__.SkipgramDataset object at 0x153608280>\n"
     ]
    }
   ],
   "source": [
    "print(dataset)"
   ]
  },
  {
   "cell_type": "code",
   "execution_count": 274,
   "metadata": {},
   "outputs": [],
   "source": [
    "BATCH_SIZE = 512"
   ]
  },
  {
   "cell_type": "code",
   "execution_count": 275,
   "metadata": {},
   "outputs": [],
   "source": [
    "dataset_loader = DataLoader(dataset, shuffle=True, batch_size=BATCH_SIZE)"
   ]
  },
  {
   "cell_type": "code",
   "execution_count": 276,
   "metadata": {},
   "outputs": [],
   "source": [
    "for x, y in dataset_loader:\n",
    "    break"
   ]
  },
  {
   "cell_type": "code",
   "execution_count": 277,
   "metadata": {},
   "outputs": [
    {
     "data": {
      "text/plain": [
       "tensor([1851,  564,  285,   25, 8302])"
      ]
     },
     "execution_count": 277,
     "metadata": {},
     "output_type": "execute_result"
    }
   ],
   "source": [
    "x[:5]"
   ]
  },
  {
   "cell_type": "code",
   "execution_count": 278,
   "metadata": {},
   "outputs": [
    {
     "data": {
      "text/plain": [
       "tensor([2381,   48,  183,  323,  689])"
      ]
     },
     "execution_count": 278,
     "metadata": {},
     "output_type": "execute_result"
    }
   ],
   "source": [
    "y[:5]"
   ]
  },
  {
   "cell_type": "code",
   "execution_count": 279,
   "metadata": {},
   "outputs": [
    {
     "data": {
      "text/plain": [
       "(torch.Size([512]), torch.Size([512]))"
      ]
     },
     "execution_count": 279,
     "metadata": {},
     "output_type": "execute_result"
    }
   ],
   "source": [
    "x.shape, y.shape"
   ]
  },
  {
   "cell_type": "code",
   "execution_count": 280,
   "metadata": {},
   "outputs": [],
   "source": [
    "class CBOW(torch.nn.Module):\n",
    "    \n",
    "    def __init__(self, vocab_size, embedding_dim, pad_index):\n",
    "        \n",
    "        super().__init__()\n",
    "        \n",
    "        if pad_index > 0:\n",
    "            vocab_size += 1\n",
    "        \n",
    "        self.in_embedding = torch.nn.Embedding(num_embeddings=vocab_size, \n",
    "                                               embedding_dim=embedding_dim,\n",
    "                                               padding_idx=pad_index)\n",
    "        \n",
    "        self.out_embedding = torch.nn.Linear(in_features=embedding_dim,\n",
    "                                             out_features=vocab_size, bias=False)\n",
    "        \n",
    "    def forward(self, x):\n",
    "        \n",
    "        x = self.in_embedding(x).sum(dim=-2)\n",
    "        x = self.out_embedding(x)\n",
    "        \n",
    "        return x"
   ]
  },
  {
   "cell_type": "markdown",
   "metadata": {},
   "source": [
    "# Мы будем учить модель Skipgram\n",
    "Реализуйте ее"
   ]
  },
  {
   "cell_type": "code",
   "execution_count": 297,
   "metadata": {},
   "outputs": [],
   "source": [
    "# CODE\n",
    "class SkipGram(torch.nn.Module):\n",
    "\n",
    "    def __init__(self, vocab_size, embedding_dim):\n",
    "\n",
    "        super().__init__()\n",
    "\n",
    "        self.in_embedding = torch.nn.Embedding(num_embeddings=vocab_size, \n",
    "                                               embedding_dim=embedding_dim)\n",
    "        self.out_embedding = torch.nn.Linear(in_features=embedding_dim,\n",
    "                                             out_features=vocab_size)\n",
    "\n",
    "    def forward(self, target):\n",
    "        target_embedding = self.in_embedding(target)\n",
    "        scores = self.out_embedding(target_embedding)\n",
    "        \n",
    "        return scores"
   ]
  },
  {
   "cell_type": "code",
   "execution_count": null,
   "metadata": {},
   "outputs": [],
   "source": [
    "#from word2vec_utils import SkipGram"
   ]
  },
  {
   "cell_type": "code",
   "execution_count": 294,
   "metadata": {},
   "outputs": [],
   "source": [
    "# размерность эмбеддинга\n",
    "# маленькая, чтобы мы могли недолго поучить ворд2век и увидеть результаты\n",
    "EMBEDDING_DIM = 20"
   ]
  },
  {
   "cell_type": "code",
   "execution_count": 298,
   "metadata": {},
   "outputs": [],
   "source": [
    "model = SkipGram(vocab_size=len(word2index), embedding_dim=EMBEDDING_DIM)"
   ]
  },
  {
   "cell_type": "code",
   "execution_count": 299,
   "metadata": {},
   "outputs": [
    {
     "data": {
      "text/plain": [
       "torch.Size([512, 13076])"
      ]
     },
     "execution_count": 299,
     "metadata": {},
     "output_type": "execute_result"
    }
   ],
   "source": [
    "with torch.no_grad():\n",
    "    pred = model(x)\n",
    "\n",
    "pred.shape"
   ]
  },
  {
   "cell_type": "code",
   "execution_count": 300,
   "metadata": {},
   "outputs": [],
   "source": [
    "optimizer = torch.optim.Adam(params=model.parameters(), lr=0.0001)\n",
    "\n",
    "# aka loss function\n",
    "criterion = torch.nn.CrossEntropyLoss()"
   ]
  },
  {
   "cell_type": "markdown",
   "metadata": {},
   "source": [
    "# Допишите обучалку"
   ]
  },
  {
   "cell_type": "code",
   "execution_count": 312,
   "metadata": {},
   "outputs": [
    {
     "name": "stderr",
     "output_type": "stream",
     "text": [
      "Epoch 1: 100%|██████████| 2983124/2983124 [12:07<00:00, 4101.91it/s, loss=5.3] \n",
      "Epoch 2: 100%|██████████| 2983124/2983124 [12:26<00:00, 3994.26it/s, loss=1.93]\n"
     ]
    }
   ],
   "source": [
    "epochs = 2\n",
    "\n",
    "losses = []\n",
    "\n",
    "for n_epoch in range(epochs):\n",
    "\n",
    "    try:\n",
    "\n",
    "        progress_bar = tqdm(total=len(dataset_loader.dataset), desc='Epoch {}'.format(n_epoch + 1))\n",
    "\n",
    "        for x, y in dataset_loader:\n",
    "   \n",
    "    \n",
    "            optimizer.zero_grad()\n",
    "\n",
    "            loss = criterion(model(x).view(-1, len(word2index)), x.view(-1))\n",
    "            loss.backward()\n",
    "            \n",
    "            optimizer.step()\n",
    "            \n",
    "            losses.append(loss.item())\n",
    "            \n",
    "            progress_bar.set_postfix(loss=np.mean(losses[-100:]))\n",
    "\n",
    "            progress_bar.update(x.shape[0])\n",
    "\n",
    "        progress_bar.close()\n",
    "\n",
    "    except KeyboardInterrupt:\n",
    "\n",
    "        progress_bar.close()\n",
    "        break"
   ]
  },
  {
   "cell_type": "code",
   "execution_count": 313,
   "metadata": {},
   "outputs": [
    {
     "data": {
      "text/plain": [
       "[<matplotlib.lines.Line2D at 0x1683cf070>]"
      ]
     },
     "execution_count": 313,
     "metadata": {},
     "output_type": "execute_result"
    },
    {
     "data": {
      "image/png": "[encoded data removed]",
      "text/plain": [
       "<Figure size 1080x1080 with 1 Axes>"
      ]
     },
     "metadata": {
      "needs_background": "light"
     },
     "output_type": "display_data"
    }
   ],
   "source": [
    "plt.title('SkipGram Training Process')\n",
    "plt.xlabel('Itearations')\n",
    "plt.ylabel('Loss')\n",
    "plt.grid()\n",
    "plt.plot(losses)"
   ]
  },
  {
   "cell_type": "code",
   "execution_count": 314,
   "metadata": {},
   "outputs": [],
   "source": [
    "# проверка, что хоть что-то выучилось\n",
    "assert np.mean(losses[-1000:]) < 7.5"
   ]
  },
  {
   "cell_type": "code",
   "execution_count": 315,
   "metadata": {},
   "outputs": [],
   "source": [
    "embedding_matrix = model.in_embedding.weight.detach()"
   ]
  },
  {
   "cell_type": "code",
   "execution_count": 316,
   "metadata": {},
   "outputs": [],
   "source": [
    "def cos_sim(embedding_matrix, token2id, word1, word2):\n",
    "    \n",
    "    i1 = token2id[word1]\n",
    "    i2 = token2id[word2]\n",
    "    \n",
    "    v1, v2 = embedding_matrix[i1], embedding_matrix[i2]\n",
    "    \n",
    "    v1_n = v1.div(v1.norm(keepdim=True))\n",
    "    v2_n = v2.div(v2.norm(keepdim=True))\n",
    "    \n",
    "    similarity = torch.dot(v1_n, v2_n).item()\n",
    "    \n",
    "    return similarity"
   ]
  },
  {
   "cell_type": "markdown",
   "metadata": {},
   "source": [
    "# Косинусная близость\n",
    "От 0 до 1, где 0 - вектора абсолютно разные, где 1 - идентичные."
   ]
  },
  {
   "cell_type": "code",
   "execution_count": 339,
   "metadata": {},
   "outputs": [
    {
     "data": {
      "text/plain": [
       "0.4045821726322174"
      ]
     },
     "execution_count": 339,
     "metadata": {},
     "output_type": "execute_result"
    }
   ],
   "source": [
    "cos_sim(embedding_matrix, word2index, 'день', 'сутки')"
   ]
  },
  {
   "cell_type": "markdown",
   "metadata": {},
   "source": [
    "Я не знаю, почему оно отрицательное((((("
   ]
  },
  {
   "cell_type": "code",
   "execution_count": 318,
   "metadata": {},
   "outputs": [
    {
     "data": {
      "text/plain": [
       "-0.31620892882347107"
      ]
     },
     "execution_count": 318,
     "metadata": {},
     "output_type": "execute_result"
    }
   ],
   "source": [
    "cos_sim(embedding_matrix, word2index, 'минута', 'месяц')"
   ]
  },
  {
   "cell_type": "code",
   "execution_count": 319,
   "metadata": {},
   "outputs": [
    {
     "data": {
      "text/plain": [
       "-0.19694490730762482"
      ]
     },
     "execution_count": 319,
     "metadata": {},
     "output_type": "execute_result"
    }
   ],
   "source": [
    "cos_sim(embedding_matrix, word2index, 'сотрудник', 'сотрудница')"
   ]
  },
  {
   "cell_type": "code",
   "execution_count": 392,
   "metadata": {},
   "outputs": [
    {
     "data": {
      "text/plain": [
       "0.0011629760265350342"
      ]
     },
     "execution_count": 392,
     "metadata": {},
     "output_type": "execute_result"
    }
   ],
   "source": [
    "cos_sim(embedding_matrix, word2index, 'вклад', 'перевод')"
   ]
  },
  {
   "cell_type": "code",
   "execution_count": 329,
   "metadata": {},
   "outputs": [
    {
     "data": {
      "text/plain": [
       "'Косинусная близость слова \"день\" к случайному выбраному слову \"чехол\" равна 0.178'"
      ]
     },
     "execution_count": 329,
     "metadata": {},
     "output_type": "execute_result"
    }
   ],
   "source": [
    "random_word = random.choice(list(word2index.keys()))\n",
    "sim = cos_sim(embedding_matrix, word2index, 'день', random_word)\n",
    "'Косинусная близость слова \"день\" к случайному выбраному слову \"{}\" равна {:.3f}'.format(random_word, sim)"
   ]
  },
  {
   "cell_type": "code",
   "execution_count": 330,
   "metadata": {},
   "outputs": [],
   "source": [
    "freq = {}\n",
    "\n",
    "for text in corpus:\n",
    "    for token in text:\n",
    "        if token in freq:\n",
    "            freq[token] += 1\n",
    "        else:\n",
    "            freq[token] = 1"
   ]
  },
  {
   "cell_type": "code",
   "execution_count": 331,
   "metadata": {},
   "outputs": [],
   "source": [
    "sorted_freq = [(k, freq[k]) for k in sorted(freq, key=freq.get, reverse=True)]\n",
    "top_sorted_freq = sorted_freq[0:200]"
   ]
  },
  {
   "cell_type": "code",
   "execution_count": 332,
   "metadata": {},
   "outputs": [
    {
     "name": "stderr",
     "output_type": "stream",
     "text": [
      "/Library/Frameworks/Python.framework/Versions/3.8/lib/python3.8/site-packages/sklearn/manifold/_t_sne.py:790: FutureWarning: The default learning rate in TSNE will change from 200.0 to 'auto' in 1.2.\n",
      "  warnings.warn(\n"
     ]
    },
    {
     "name": "stdout",
     "output_type": "stream",
     "text": [
      "[t-SNE] Computing 91 nearest neighbors...\n",
      "[t-SNE] Indexed 13076 samples in 0.021s...\n",
      "[t-SNE] Computed neighbors for 13076 samples in 10.801s...\n",
      "[t-SNE] Computed conditional probabilities for sample 1000 / 13076\n",
      "[t-SNE] Computed conditional probabilities for sample 2000 / 13076\n",
      "[t-SNE] Computed conditional probabilities for sample 3000 / 13076\n",
      "[t-SNE] Computed conditional probabilities for sample 4000 / 13076\n",
      "[t-SNE] Computed conditional probabilities for sample 5000 / 13076\n",
      "[t-SNE] Computed conditional probabilities for sample 6000 / 13076\n",
      "[t-SNE] Computed conditional probabilities for sample 7000 / 13076\n",
      "[t-SNE] Computed conditional probabilities for sample 8000 / 13076\n",
      "[t-SNE] Computed conditional probabilities for sample 9000 / 13076\n",
      "[t-SNE] Computed conditional probabilities for sample 10000 / 13076\n",
      "[t-SNE] Computed conditional probabilities for sample 11000 / 13076\n",
      "[t-SNE] Computed conditional probabilities for sample 12000 / 13076\n",
      "[t-SNE] Computed conditional probabilities for sample 13000 / 13076\n",
      "[t-SNE] Computed conditional probabilities for sample 13076 / 13076\n",
      "[t-SNE] Mean sigma: 1.253137\n",
      "[t-SNE] Computed conditional probabilities in 0.642s\n"
     ]
    },
    {
     "name": "stderr",
     "output_type": "stream",
     "text": [
      "/Library/Frameworks/Python.framework/Versions/3.8/lib/python3.8/site-packages/sklearn/manifold/_t_sne.py:982: FutureWarning: The PCA initialization in TSNE will change to have the standard deviation of PC1 equal to 1e-4 in 1.2. This will ensure better convergence.\n",
      "  warnings.warn(\n"
     ]
    },
    {
     "name": "stdout",
     "output_type": "stream",
     "text": [
      "[t-SNE] Iteration 50: error = 98.7024841, gradient norm = 0.0000006 (50 iterations in 8.214s)\n",
      "[t-SNE] Iteration 100: error = 98.7034302, gradient norm = 0.0000000 (50 iterations in 3.939s)\n",
      "[t-SNE] Iteration 100: gradient norm 0.000000. Finished.\n",
      "[t-SNE] KL divergence after 100 iterations with early exaggeration: 98.703430\n",
      "[t-SNE] Iteration 150: error = 5.7406559, gradient norm = 0.0000003 (50 iterations in 5.084s)\n",
      "[t-SNE] Iteration 200: error = 5.0788002, gradient norm = 0.0008193 (50 iterations in 12.235s)\n",
      "[t-SNE] Iteration 250: error = 4.9428492, gradient norm = 0.0004106 (50 iterations in 6.500s)\n",
      "[t-SNE] Iteration 300: error = 4.8528137, gradient norm = 0.0002797 (50 iterations in 7.135s)\n",
      "[t-SNE] Iteration 350: error = 4.7852545, gradient norm = 0.0002072 (50 iterations in 5.932s)\n",
      "[t-SNE] Iteration 400: error = 4.7313128, gradient norm = 0.0001683 (50 iterations in 8.062s)\n",
      "[t-SNE] Iteration 450: error = 4.6876287, gradient norm = 0.0001377 (50 iterations in 5.541s)\n",
      "[t-SNE] Iteration 500: error = 4.6511478, gradient norm = 0.0001086 (50 iterations in 7.913s)\n",
      "[t-SNE] Iteration 550: error = 4.6204100, gradient norm = 0.0000940 (50 iterations in 7.719s)\n",
      "[t-SNE] Iteration 600: error = 4.5944238, gradient norm = 0.0000810 (50 iterations in 7.848s)\n",
      "[t-SNE] Iteration 650: error = 4.5719242, gradient norm = 0.0000708 (50 iterations in 5.835s)\n",
      "[t-SNE] Iteration 700: error = 4.5526137, gradient norm = 0.0000627 (50 iterations in 7.035s)\n",
      "[t-SNE] Iteration 750: error = 4.5361300, gradient norm = 0.0000580 (50 iterations in 8.464s)\n",
      "[t-SNE] Iteration 800: error = 4.5217476, gradient norm = 0.0000525 (50 iterations in 7.282s)\n",
      "[t-SNE] Iteration 850: error = 4.5097470, gradient norm = 0.0000488 (50 iterations in 9.123s)\n",
      "[t-SNE] Iteration 900: error = 4.4990034, gradient norm = 0.0000462 (50 iterations in 7.332s)\n",
      "[t-SNE] Iteration 950: error = 4.4899387, gradient norm = 0.0000432 (50 iterations in 6.645s)\n",
      "[t-SNE] Iteration 1000: error = 4.4821997, gradient norm = 0.0000407 (50 iterations in 6.535s)\n",
      "[t-SNE] KL divergence after 1000 iterations: 4.482200\n"
     ]
    }
   ],
   "source": [
    "tsne = TSNE(n_components=2, init='pca', random_state=42, verbose=2)\n",
    "reduced = tsne.fit_transform(embedding_matrix)"
   ]
  },
  {
   "cell_type": "code",
   "execution_count": 333,
   "metadata": {},
   "outputs": [],
   "source": [
    "top_words = [a for a,_ in top_sorted_freq]"
   ]
  },
  {
   "cell_type": "code",
   "execution_count": 334,
   "metadata": {},
   "outputs": [],
   "source": [
    "inds = [word2index[word] for word in top_words]\n",
    "x_coords = [coords[0] for coords in reduced[inds]]\n",
    "y_coords = [coords[1] for coords in reduced[inds]]"
   ]
  },
  {
   "cell_type": "code",
   "execution_count": 335,
   "metadata": {},
   "outputs": [
    {
     "data": {
      "image/png": "[encoded data removed]",
      "text/plain": [
       "<Figure size 1080x1080 with 1 Axes>"
      ]
     },
     "metadata": {
      "needs_background": "light"
     },
     "output_type": "display_data"
    }
   ],
   "source": [
    "for (x, y, word) in zip(x_coords, y_coords, top_words):\n",
    "    plt.scatter(x, y, marker='.', color='blue')\n",
    "    plt.text(x+0.01, y+0.01, word, fontsize=9)\n",
    "plt.show()"
   ]
  },
  {
   "cell_type": "code",
   "execution_count": null,
   "metadata": {},
   "outputs": [],
   "source": []
  },
  {
   "cell_type": "markdown",
   "metadata": {
    "collapsed": false
   },
   "source": [
    "# Оценка\n",
    "1. Вы добрались сюда и все работает, значит уже получили 7 баллов.\n",
    "2. 8 баллов - Взяли корпус для оценка качества эмбеддингов [здесь](https://rusvectores.org/static/testsets/ru_simlex965_tagged.tsv). Описание к нему [здесь](https://arxiv.org/pdf/1801.06407.pdf). Его английская версия для понимания, того что же это такое [тут](https://fh295.github.io/simlex.html). Если в кратце - он похож а гугл аналогии, просто иначе составлен. Определили качество своих эмбеддингов. Как качество измерить? Можете все значения отнормировать (привести к 1) и затем считать MSE между тем что у вас и что в оригинале.\n",
    "3. 9 баллов - Поставили эксперименты, поменяли любые параметры, хоть корпус увеличили или как то почистили. Показали метрики до и после. После должно быть лучше, иначе это все еще 8 баллов.\n",
    "4. 10 баллов - удивили своим подходом (или просто удивили) пока делили на 9 баллов"
   ]
  },
  {
   "cell_type": "code",
   "execution_count": 386,
   "metadata": {},
   "outputs": [],
   "source": [
    "import pandas as pd\n",
    "df = pd.read_table('/Users/karpovapolina/Downloads/analysisoftgchannel/ru_simlex965_tagged (1).tsv')"
   ]
  },
  {
   "cell_type": "code",
   "execution_count": 374,
   "metadata": {},
   "outputs": [
    {
     "data": {
      "text/html": [
       "<div>\n",
       "<style scoped>\n",
       "    .dataframe tbody tr th:only-of-type {\n",
       "        vertical-align: middle;\n",
       "    }\n",
       "\n",
       "    .dataframe tbody tr th {\n",
       "        vertical-align: top;\n",
       "    }\n",
       "\n",
       "    .dataframe thead th {\n",
       "        text-align: right;\n",
       "    }\n",
       "</style>\n",
       "<table border=\"1\" class=\"dataframe\">\n",
       "  <thead>\n",
       "    <tr style=\"text-align: right;\">\n",
       "      <th></th>\n",
       "      <th># Word1</th>\n",
       "      <th>Word2</th>\n",
       "      <th>Average Score</th>\n",
       "    </tr>\n",
       "  </thead>\n",
       "  <tbody>\n",
       "    <tr>\n",
       "      <th>0</th>\n",
       "      <td>авария_NOUN</td>\n",
       "      <td>бедствие_NOUN</td>\n",
       "      <td>6.15</td>\n",
       "    </tr>\n",
       "    <tr>\n",
       "      <th>1</th>\n",
       "      <td>август_NOUN</td>\n",
       "      <td>месяц_NOUN</td>\n",
       "      <td>2.85</td>\n",
       "    </tr>\n",
       "    <tr>\n",
       "      <th>2</th>\n",
       "      <td>авиация_NOUN</td>\n",
       "      <td>полет_NOUN</td>\n",
       "      <td>6.77</td>\n",
       "    </tr>\n",
       "    <tr>\n",
       "      <th>3</th>\n",
       "      <td>автомобиль_NOUN</td>\n",
       "      <td>гудок_NOUN</td>\n",
       "      <td>1.85</td>\n",
       "    </tr>\n",
       "    <tr>\n",
       "      <th>4</th>\n",
       "      <td>автомобиль_NOUN</td>\n",
       "      <td>автострада_NOUN</td>\n",
       "      <td>1.23</td>\n",
       "    </tr>\n",
       "    <tr>\n",
       "      <th>...</th>\n",
       "      <td>...</td>\n",
       "      <td>...</td>\n",
       "      <td>...</td>\n",
       "    </tr>\n",
       "    <tr>\n",
       "      <th>960</th>\n",
       "      <td>яблоко_NOUN</td>\n",
       "      <td>солнце_NOUN</td>\n",
       "      <td>0.15</td>\n",
       "    </tr>\n",
       "    <tr>\n",
       "      <th>961</th>\n",
       "      <td>ядро_NOUN</td>\n",
       "      <td>пушка_NOUN</td>\n",
       "      <td>2.77</td>\n",
       "    </tr>\n",
       "    <tr>\n",
       "      <th>962</th>\n",
       "      <td>язык_NOUN</td>\n",
       "      <td>горло_NOUN</td>\n",
       "      <td>1.38</td>\n",
       "    </tr>\n",
       "    <tr>\n",
       "      <th>963</th>\n",
       "      <td>ярд_NOUN</td>\n",
       "      <td>дюйм_NOUN</td>\n",
       "      <td>2.62</td>\n",
       "    </tr>\n",
       "    <tr>\n",
       "      <th>964</th>\n",
       "      <td>яростный_ADJ</td>\n",
       "      <td>злой_ADJ</td>\n",
       "      <td>7.46</td>\n",
       "    </tr>\n",
       "  </tbody>\n",
       "</table>\n",
       "<p>965 rows × 3 columns</p>\n",
       "</div>"
      ],
      "text/plain": [
       "             # Word1            Word2  Average Score\n",
       "0        авария_NOUN    бедствие_NOUN           6.15\n",
       "1        август_NOUN       месяц_NOUN           2.85\n",
       "2       авиация_NOUN       полет_NOUN           6.77\n",
       "3    автомобиль_NOUN       гудок_NOUN           1.85\n",
       "4    автомобиль_NOUN  автострада_NOUN           1.23\n",
       "..               ...              ...            ...\n",
       "960      яблоко_NOUN      солнце_NOUN           0.15\n",
       "961        ядро_NOUN       пушка_NOUN           2.77\n",
       "962        язык_NOUN       горло_NOUN           1.38\n",
       "963         ярд_NOUN        дюйм_NOUN           2.62\n",
       "964     яростный_ADJ         злой_ADJ           7.46\n",
       "\n",
       "[965 rows x 3 columns]"
      ]
     },
     "execution_count": 374,
     "metadata": {},
     "output_type": "execute_result"
    }
   ],
   "source": [
    "df"
   ]
  },
  {
   "cell_type": "code",
   "execution_count": 387,
   "metadata": {},
   "outputs": [],
   "source": [
    "#убрала _POS из слов и отнормировала average score\n",
    "\n",
    "import re \n",
    "\n",
    "list_scores = df['Average Score'].to_list()\n",
    "normalized_scores = preprocessing.normalize([list_scores])\n",
    "df['Average Score'] = normalized_scores[0]\n",
    "words = []\n",
    "words2 = []\n",
    "for i in df['# Word1'].to_list():\n",
    "    match = re.findall(r'^[^_]*', i)\n",
    "    words.append(' '.join(match))\n",
    "\n",
    "for i in df['Word2'].to_list():\n",
    "    match = re.findall(r'^[^_]*', i)\n",
    "    words2.append(' '.join(match))\n",
    "\n",
    "df['# Word1'] = words\n",
    "df['Word2'] = words2"
   ]
  },
  {
   "cell_type": "code",
   "execution_count": 388,
   "metadata": {},
   "outputs": [
    {
     "data": {
      "text/html": [
       "<div>\n",
       "<style scoped>\n",
       "    .dataframe tbody tr th:only-of-type {\n",
       "        vertical-align: middle;\n",
       "    }\n",
       "\n",
       "    .dataframe tbody tr th {\n",
       "        vertical-align: top;\n",
       "    }\n",
       "\n",
       "    .dataframe thead th {\n",
       "        text-align: right;\n",
       "    }\n",
       "</style>\n",
       "<table border=\"1\" class=\"dataframe\">\n",
       "  <thead>\n",
       "    <tr style=\"text-align: right;\">\n",
       "      <th></th>\n",
       "      <th># Word1</th>\n",
       "      <th>Word2</th>\n",
       "      <th>Average Score</th>\n",
       "    </tr>\n",
       "  </thead>\n",
       "  <tbody>\n",
       "    <tr>\n",
       "      <th>0</th>\n",
       "      <td>авария</td>\n",
       "      <td>бедствие</td>\n",
       "      <td>0.043144</td>\n",
       "    </tr>\n",
       "    <tr>\n",
       "      <th>1</th>\n",
       "      <td>август</td>\n",
       "      <td>месяц</td>\n",
       "      <td>0.019994</td>\n",
       "    </tr>\n",
       "    <tr>\n",
       "      <th>2</th>\n",
       "      <td>авиация</td>\n",
       "      <td>полет</td>\n",
       "      <td>0.047494</td>\n",
       "    </tr>\n",
       "    <tr>\n",
       "      <th>3</th>\n",
       "      <td>автомобиль</td>\n",
       "      <td>гудок</td>\n",
       "      <td>0.012978</td>\n",
       "    </tr>\n",
       "    <tr>\n",
       "      <th>4</th>\n",
       "      <td>автомобиль</td>\n",
       "      <td>автострада</td>\n",
       "      <td>0.008629</td>\n",
       "    </tr>\n",
       "    <tr>\n",
       "      <th>...</th>\n",
       "      <td>...</td>\n",
       "      <td>...</td>\n",
       "      <td>...</td>\n",
       "    </tr>\n",
       "    <tr>\n",
       "      <th>960</th>\n",
       "      <td>яблоко</td>\n",
       "      <td>солнце</td>\n",
       "      <td>0.001052</td>\n",
       "    </tr>\n",
       "    <tr>\n",
       "      <th>961</th>\n",
       "      <td>ядро</td>\n",
       "      <td>пушка</td>\n",
       "      <td>0.019433</td>\n",
       "    </tr>\n",
       "    <tr>\n",
       "      <th>962</th>\n",
       "      <td>язык</td>\n",
       "      <td>горло</td>\n",
       "      <td>0.009681</td>\n",
       "    </tr>\n",
       "    <tr>\n",
       "      <th>963</th>\n",
       "      <td>ярд</td>\n",
       "      <td>дюйм</td>\n",
       "      <td>0.018380</td>\n",
       "    </tr>\n",
       "    <tr>\n",
       "      <th>964</th>\n",
       "      <td>яростный</td>\n",
       "      <td>злой</td>\n",
       "      <td>0.052335</td>\n",
       "    </tr>\n",
       "  </tbody>\n",
       "</table>\n",
       "<p>965 rows × 3 columns</p>\n",
       "</div>"
      ],
      "text/plain": [
       "        # Word1       Word2  Average Score\n",
       "0        авария    бедствие       0.043144\n",
       "1        август       месяц       0.019994\n",
       "2       авиация       полет       0.047494\n",
       "3    автомобиль       гудок       0.012978\n",
       "4    автомобиль  автострада       0.008629\n",
       "..          ...         ...            ...\n",
       "960      яблоко      солнце       0.001052\n",
       "961        ядро       пушка       0.019433\n",
       "962        язык       горло       0.009681\n",
       "963         ярд        дюйм       0.018380\n",
       "964    яростный        злой       0.052335\n",
       "\n",
       "[965 rows x 3 columns]"
      ]
     },
     "execution_count": 388,
     "metadata": {},
     "output_type": "execute_result"
    }
   ],
   "source": [
    "df"
   ]
  },
  {
   "cell_type": "code",
   "execution_count": 389,
   "metadata": {},
   "outputs": [],
   "source": [
    "# делаю список кортежей вида (первое слово, второе слово, score)\n",
    "tuple_of_df = list(df.itertuples(index=False, name = None))"
   ]
  },
  {
   "cell_type": "code",
   "execution_count": 395,
   "metadata": {},
   "outputs": [],
   "source": [
    "# считаю кос сим для всех слов из таблицы\n",
    "my_sims = []\n",
    "for i in tuple_of_df:\n",
    "    if i[0] in word2index.keys() and i[1] in word2index.keys():\n",
    "        my_sim = cos_sim(embedding_matrix, word2index, i[0], i[1])\n",
    "        my_sims.append(my_sim)\n",
    "    else:\n",
    "        my_sims.append(0)\n"
   ]
  },
  {
   "cell_type": "code",
   "execution_count": 397,
   "metadata": {},
   "outputs": [
    {
     "data": {
      "text/plain": [
       "0.023832292130966107"
      ]
     },
     "execution_count": 397,
     "metadata": {},
     "output_type": "execute_result"
    }
   ],
   "source": [
    "#сравниваю то, что у меня и то, что в таблице\n",
    "from sklearn.metrics import mean_squared_error\n",
    "mean_squared_error(df['Average Score'].to_list(), my_sims)"
   ]
  },
  {
   "cell_type": "markdown",
   "metadata": {},
   "source": [
    "До сих пор не поняла, почему некоторые значения кос сим отрицательные.....\n"
   ]
  }
 ],
 "metadata": {
  "kernelspec": {
   "display_name": "Python 3.8.5 64-bit",
   "language": "python",
   "name": "python3"
  },
  "language_info": {
   "codemirror_mode": {
    "name": "ipython",
    "version": 3
   },
   "file_extension": ".py",
   "mimetype": "text/x-python",
   "name": "python",
   "nbconvert_exporter": "python",
   "pygments_lexer": "ipython3",
   "version": "3.8.5"
  },
  "vscode": {
   "interpreter": {
    "hash": "aee8b7b246df8f9039afb4144a1f6fd8d2ca17a180786b69acc140d282b71a49"
   }
  }
 },
 "nbformat": 4,
 "nbformat_minor": 2
}
